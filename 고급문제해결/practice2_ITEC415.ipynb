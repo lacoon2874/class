{
 "cells": [
  {
   "cell_type": "markdown",
   "metadata": {
    "id": "v5pUao3decaa"
   },
   "source": [
    "# Practice #2\n",
    "## 1. Print a string in a reverse order.\n",
    "* We can easily solve this problem iteratively, i.e., looping through the string starting from its last character\n",
    "* How about solving it recursively?\n",
    "  - printReverse(`str[1:]`) : print the substring `str [1:]` in reverse order\n",
    "  -`print(str[0])` : print the first character in the string"
   ]
  },
  {
   "cell_type": "code",
   "execution_count": 1,
   "metadata": {
    "id": "MlFILG9EjZpt"
   },
   "outputs": [],
   "source": [
    "def printReverse(str):\n",
    "  if str == \"\":\n",
    "    return str\n",
    "  else:\n",
    "    return printReverse(str[1:])+str[0]"
   ]
  },
  {
   "cell_type": "code",
   "execution_count": 2,
   "metadata": {
    "colab": {
     "base_uri": "https://localhost:8080/",
     "height": 35
    },
    "id": "xu7RwTFcjmG9",
    "outputId": "6fef40b7-f2c3-417e-e145-b356d0e29d3b"
   },
   "outputs": [
    {
     "data": {
      "application/vnd.google.colaboratory.intrinsic+json": {
       "type": "string"
      },
      "text/plain": [
       "'olleh'"
      ]
     },
     "execution_count": 2,
     "metadata": {},
     "output_type": "execute_result"
    }
   ],
   "source": [
    "printReverse(\"hello\")"
   ]
  },
  {
   "cell_type": "markdown",
   "metadata": {
    "id": "gJ6TkcLjjF0P"
   },
   "source": [
    "## 2. Swap Nodes in Pairs\n",
    "Given a linked list, swap every two adjacent nodes and return its head. \n",
    "\n",
    "* Constraints\n",
    "  - The number of nodes in the list is in the range `[0, 100]`.\n",
    "  - `0 ≤ Node.val ≤ 100`\n",
    "\n",
    "* Example 1:\n",
    "  - Input: head = [1,2,3,4]\n",
    "  - Output: [2,1,4,3]\n",
    "\n",
    "* Example 2:\n",
    "  - Input: head = []\n",
    "  - Output: []\n",
    "\n",
    "* Example 3:\n",
    "  - Input: head = [1]\n",
    "  - Output: [1]\n"
   ]
  },
  {
   "cell_type": "code",
   "execution_count": 2,
   "metadata": {
    "id": "SJOoiexKi9AF"
   },
   "outputs": [],
   "source": []
  },
  {
   "cell_type": "markdown",
   "metadata": {
    "id": "ipVWaVUck_e7"
   },
   "source": [
    "## 3.  Pascal’s Triangle\n",
    "Pascal’s Triangle is a series of numbers arranged in the shape of triangle. In Pascal's Triangle, the leftmost and the rightmost numbers of each row are always 1. For the rest, each number is the sum of the two numbers directly above it in the previous row.\n"
   ]
  },
  {
   "cell_type": "code",
   "execution_count": 2,
   "metadata": {
    "id": "oYRzsTb6lIx6"
   },
   "outputs": [],
   "source": []
  },
  {
   "cell_type": "markdown",
   "metadata": {
    "id": "4Nk2NwVwjAK_"
   },
   "source": [
    "## 4. Pascal’s Triangle II\n",
    "“Given an integer rowIndex, return rowIndexth (0-indexed) row the Pascal’s triangle.”\n",
    "* Constraints: `0 ≤ rowIndex ≤ 33` \n",
    "* Examples\n",
    "  - Input: rowIndex = 3 → Output: [1, 3, 3, 1]\n",
    "  - Input: rowIndex = 0 → Output: [1]\n",
    "  - Input: rowIndex = 1 → Output: [1, 1]"
   ]
  },
  {
   "cell_type": "code",
   "execution_count": 2,
   "metadata": {
    "id": "FhlNIo0ylbij"
   },
   "outputs": [],
   "source": []
  },
  {
   "cell_type": "markdown",
   "metadata": {
    "id": "b_jj52lTlcoM"
   },
   "source": [
    "## 5. Climbing Stairs\n",
    "You are climbing a staircase. It takes n steps to reach the top.\n",
    "Each time you can either climb 1 or 2 steps. In how many distinct ways can you climb to the top?\n",
    "\n",
    "* Constraints: `1 ≤ n ≤ 45`\n",
    "\n",
    "* Examples\n",
    "  - Input: n = 2 → Output: 2\n",
    "    * (Case 1) 1 step + 1 step, (Case 2) 2 steps\n",
    "  - Input: n = 3 → Output: 3\n",
    "    * (Case 1) 1 step + 1 step + 1 step, (Case 2) 1 step + 2 steps, (Case 3) 2 steps + 1 step"
   ]
  },
  {
   "cell_type": "code",
   "execution_count": 2,
   "metadata": {
    "id": "4XHU1IMblrxE"
   },
   "outputs": [],
   "source": []
  },
  {
   "cell_type": "markdown",
   "metadata": {
    "id": "Yba-8EANlsvN"
   },
   "source": [
    "## 6. Pow(x, n)\n",
    "Implement pow(x, n), which calculates x raised to the power n\n",
    "\n",
    "* Constraints\n",
    "  - -100.0 < x < 100.0\n",
    "  - -231 ≤ n ≤ 231 - 1\n",
    "  - -104 ≤ xn ≤ 104\n",
    "\n",
    "* Examples\n",
    "  - Input: x = 2.00000, n = 10 → Output: 1024.00000\n",
    "  - Input: x = 2.10000, n = 3 → Output: 9.26100\n",
    "  - Input: x = 2.00000, n = -1 → Output: 0.25000\n"
   ]
  },
  {
   "cell_type": "code",
   "execution_count": 2,
   "metadata": {
    "id": "EPqRXRyOmCYT"
   },
   "outputs": [],
   "source": []
  },
  {
   "cell_type": "markdown",
   "metadata": {
    "id": "Y9tigbrtmDUs"
   },
   "source": [
    "## 7. Generate permutations\n",
    "This problem is concerned with computing all permulations of an array. \n",
    "\n",
    "* Example\n",
    "  - Input: <2, 3, 5, 7>\n",
    "  - Ouput: <2, 3, 5, 7>, <2. 3, 7, 5>, <2, 5, 3, 7>, ..., <7, 5, 3, 2>\n",
    "\n",
    "Write a program which takes as input an array of distinct integers and generates all permutations of that array. No permutation of the array may appear more than once."
   ]
  },
  {
   "cell_type": "code",
   "execution_count": 2,
   "metadata": {
    "id": "0LIfNvP4nKEN"
   },
   "outputs": [],
   "source": []
  }
 ],
 "metadata": {
  "colab": {
   "name": "practice2-ITEC415.ipynb",
   "provenance": []
  },
  "kernelspec": {
   "display_name": "Python 3 (ipykernel)",
   "language": "python",
   "name": "python3"
  },
  "language_info": {
   "codemirror_mode": {
    "name": "ipython",
    "version": 3
   },
   "file_extension": ".py",
   "mimetype": "text/x-python",
   "name": "python",
   "nbconvert_exporter": "python",
   "pygments_lexer": "ipython3",
   "version": "3.9.12"
  }
 },
 "nbformat": 4,
 "nbformat_minor": 1
}
