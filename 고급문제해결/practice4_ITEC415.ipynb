{
 "cells": [
  {
   "cell_type": "markdown",
   "metadata": {
    "id": "wx2yJ--dDOiy"
   },
   "source": [
    "# Practice #4 (Dynamic programming - part 2)\n",
    "## 1. 증가하는 수로 이루어진 가장 긴 부분수열 찾기\n",
    "정수 배열 nums에서, 증가하는 수로 구성된 가장 긴 부분수열의 길이를 구하세요.\n",
    "\n",
    "* 예제 1 \n",
    "  - Input: nums = [10,9,2,5,3,7,101,18]\n",
    "  - Output: 4\n",
    "  - 설명: 가장 긴 수열은 [2,3,7,101]이므로, 길이는 4 이다.\n",
    "\n",
    "* 예제 2\n",
    "  - Input: nums = [0,1,0,3,2,3]\n",
    "  - Output: 4\n",
    "\n",
    "* 예제 3\n",
    "  - Input: nums = [7,7,7,7,7,7,7]\n",
    "  - Output: 1"
   ]
  },
  {
   "cell_type": "code",
   "execution_count": null,
   "metadata": {
    "id": "sg1Z3442ZBAM"
   },
   "outputs": [],
   "source": []
  },
  {
   "cell_type": "markdown",
   "metadata": {
    "id": "L0cEcNGTdhew"
   },
   "source": [
    "## 2. 울타리 색칠 하기\n",
    "n개 포스트의 울타리를 k개의 다른 색깔로 색칠하려 한다. 조건은 다음과 같다.\n",
    "- 모든 포스트는 오직 하나의 색깔로 칠해져야 한다.\n",
    "- 같은 색깔로 3개 이상 연속된 포스트를 칠할 수 없다.\n",
    "\n",
    "n과 k의 정수값이 주어졌을 때, 울타리를 칠할 수 있는 방법의 수를 출력하세요.\n",
    "\n",
    "* 예제 1\n",
    "  - Input: n = 3, k = 2\n",
    "  - Output: 6\n",
    "\n",
    "* 예제 2\n",
    "  - Input: n = 1, k = 1\n",
    "  - Output: 1\n",
    "\n",
    "* 예제 3\n",
    "  - Input: n = 7, k = 2\n",
    "  - Output: 42"
   ]
  },
  {
   "cell_type": "code",
   "execution_count": null,
   "metadata": {
    "id": "6frnewyQZDHT"
   },
   "outputs": [],
   "source": []
  },
  {
   "cell_type": "markdown",
   "metadata": {
    "id": "wzaZ8iKQv8km"
   },
   "source": [
    "## 3. 길 찾기\n",
    "m x n 그리드에 로봇이 있다. 이 로봇은 왼쪽 상단 모서리(grid[0][0])에서 오른쪽 하단 모서리 (grid[m-1][n-1])으로 이동하려 합니다. 로봇은 아래쪽 또는 오른쪽으로만 이동할 수 있다.\n",
    "\n",
    "두 개의 정수 m과 n이 주어지면, 로봇은 하단 모서리에 돌달하기 위해 취할 수 있는 경로의 수를 구하세요.\n",
    "\n",
    "* 예제 1\n",
    "  - Input: m = 3, n = 7\n",
    "  - Output: 28\n",
    "\n",
    "* 예제 2\n",
    "  - Input: m = 3, n = 2\n",
    "  - Output: 3\n",
    "  - 설명: 3 가지 (r->d->d, d->d->r, d->r->d)"
   ]
  },
  {
   "cell_type": "code",
   "execution_count": null,
   "metadata": {
    "id": "IFdnkPhWZEks"
   },
   "outputs": [],
   "source": []
  },
  {
   "cell_type": "markdown",
   "metadata": {
    "id": "qVmOBB7IW_bV"
   },
   "source": [
    "## 4. 길 찾기 II\n",
    "3번과 동일한 조건에서, 장애물이 존재합니다. 로봇이 하단 모서리에 도달할 수 있는 경로의 수를 구하세요.\n",
    "\n",
    "* 예제 1\n",
    "  - Input: obstacleGrid = [[0,0,0],[0,1,0],[0,0,0]]\n",
    "  - Output: 2\n",
    "* 예제 2\n",
    "  - Input: obstacleGrid = [[0,1],[0,0]]\n",
    "  - Output: 1"
   ]
  },
  {
   "cell_type": "code",
   "execution_count": null,
   "metadata": {
    "id": "BYcO-3iAYoMs"
   },
   "outputs": [],
   "source": []
  }
 ],
 "metadata": {
  "colab": {
   "collapsed_sections": [],
   "name": "practice4-ITEC415.ipynb",
   "provenance": []
  },
  "kernelspec": {
   "display_name": "Python 3 (ipykernel)",
   "language": "python",
   "name": "python3"
  },
  "language_info": {
   "codemirror_mode": {
    "name": "ipython",
    "version": 3
   },
   "file_extension": ".py",
   "mimetype": "text/x-python",
   "name": "python",
   "nbconvert_exporter": "python",
   "pygments_lexer": "ipython3",
   "version": "3.9.12"
  }
 },
 "nbformat": 4,
 "nbformat_minor": 1
}
