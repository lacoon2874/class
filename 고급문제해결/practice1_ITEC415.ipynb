{
  "nbformat": 4,
  "nbformat_minor": 0,
  "metadata": {
    "colab": {
      "name": "실습1.ipynb",
      "provenance": []
    },
    "kernelspec": {
      "name": "python3",
      "display_name": "Python 3"
    },
    "language_info": {
      "name": "python"
    }
  },
  "cells": [
    {
      "cell_type": "markdown",
      "source": [
        "# 실습 1\n",
        "## 1. 숫자 뒤집기\n",
        "\n",
        "정수값이 주어졌을 때, 그 숫자를 뒤집어서 출력하는 프로그램을 작성하세요. 예, 205는 502가 되고, -386은 -683이 됩니다.\n"
      ],
      "metadata": {
        "id": "qjytWFiSxhaf"
      }
    },
    {
      "cell_type": "code",
      "execution_count": null,
      "metadata": {
        "id": "yt65882kxeN5"
      },
      "outputs": [],
      "source": [
        "def reverse(x):\n",
        "  result = 0\n",
        "\n",
        "  # to-do\n",
        "  \n",
        "  return result"
      ]
    },
    {
      "cell_type": "code",
      "source": [
        "reverse(205)"
      ],
      "metadata": {
        "colab": {
          "base_uri": "https://localhost:8080/"
        },
        "id": "wGkkKX9E4W1E",
        "outputId": "1c6845d2-03eb-4813-eb60-2f65529d0b4c"
      },
      "execution_count": null,
      "outputs": [
        {
          "output_type": "execute_result",
          "data": {
            "text/plain": [
              "502"
            ]
          },
          "metadata": {},
          "execution_count": 6
        }
      ]
    },
    {
      "cell_type": "code",
      "source": [
        "reverse(-386)"
      ],
      "metadata": {
        "colab": {
          "base_uri": "https://localhost:8080/"
        },
        "id": "tZ0tee6t4bTD",
        "outputId": "317743e1-c7fe-491d-c043-1f442f3f1b5e"
      },
      "execution_count": null,
      "outputs": [
        {
          "output_type": "execute_result",
          "data": {
            "text/plain": [
              "-683"
            ]
          },
          "metadata": {},
          "execution_count": 8
        }
      ]
    },
    {
      "cell_type": "markdown",
      "source": [
        "## 2. 숫자 회문 판별기\n",
        "\n",
        "회문(palindrome)은 거꾸로 읽어도 제대로 익는 것과 같은 문장이나 낱말, 숫자, 문자열 등을 말합니다. 보통 낱말 사이에 있는 띄어쓰기나 문장 부호는 무시합니다. \n",
        "\n",
        "10진수로 표현된 0보단 큰 수가 있을 때 이 숫자가 회문인지 아닌지 판단하는 프로그램을 작성하세요. 예, 1, 9, 22, 262, 555, 123456654321은 회문이고, -3, 24, 200, 24562456은 회문이 아닙니다."
      ],
      "metadata": {
        "id": "lTMwI8Lu6aMf"
      }
    },
    {
      "cell_type": "code",
      "source": [
        "import math\n",
        "\n",
        "def is_palindrome_number(x):\n",
        "  # to-do\n",
        "  \n",
        "  return True"
      ],
      "metadata": {
        "id": "soUkmVpG4nvd"
      },
      "execution_count": null,
      "outputs": []
    },
    {
      "cell_type": "code",
      "source": [
        "is_palindrome_number(262)"
      ],
      "metadata": {
        "colab": {
          "base_uri": "https://localhost:8080/"
        },
        "id": "bolb42K-8gst",
        "outputId": "bdc7acde-bba5-4b1c-f662-9e579ba3d846"
      },
      "execution_count": null,
      "outputs": [
        {
          "output_type": "execute_result",
          "data": {
            "text/plain": [
              "True"
            ]
          },
          "metadata": {},
          "execution_count": 13
        }
      ]
    },
    {
      "cell_type": "code",
      "source": [
        "is_palindrome_number(123456654321)"
      ],
      "metadata": {
        "colab": {
          "base_uri": "https://localhost:8080/"
        },
        "id": "j41vlADN8tRl",
        "outputId": "3604a3d2-fee1-46dc-e469-51d53d008e83"
      },
      "execution_count": null,
      "outputs": [
        {
          "output_type": "execute_result",
          "data": {
            "text/plain": [
              "True"
            ]
          },
          "metadata": {},
          "execution_count": 14
        }
      ]
    },
    {
      "cell_type": "code",
      "source": [
        "is_palindrome_number(200)"
      ],
      "metadata": {
        "colab": {
          "base_uri": "https://localhost:8080/"
        },
        "id": "SXklnDX58x6M",
        "outputId": "b3b469c9-4b73-47be-bd4b-750f361d4a1e"
      },
      "execution_count": null,
      "outputs": [
        {
          "output_type": "execute_result",
          "data": {
            "text/plain": [
              "False"
            ]
          },
          "metadata": {},
          "execution_count": 15
        }
      ]
    },
    {
      "cell_type": "code",
      "source": [
        "is_palindrome_number(24562456)"
      ],
      "metadata": {
        "colab": {
          "base_uri": "https://localhost:8080/"
        },
        "id": "qmhHnAcH8010",
        "outputId": "8ae2690a-67f0-47af-e269-43679cb15dc0"
      },
      "execution_count": null,
      "outputs": [
        {
          "output_type": "execute_result",
          "data": {
            "text/plain": [
              "False"
            ]
          },
          "metadata": {},
          "execution_count": 16
        }
      ]
    },
    {
      "cell_type": "markdown",
      "source": [
        "## 3. 문자열 회분 판별기\n",
        "\n",
        "문자열이 회문인지 확인하는 함수를 작성하세요. 문자열 회문(palindrome)은 알파벳이 아닌 문자들을 모두 제거했을 때 앞뒤로 읽은 결과가 같은 경우를 말합니다. 예, 단어로는 civic, radar, level, rotor 등이 있고, 문장으로는 \"Mr. Owl ate my metal worm\", \"Do geese see god?\" 등이 있습니다."
      ],
      "metadata": {
        "id": "BllHAIK06Xyw"
      }
    },
    {
      "cell_type": "code",
      "source": [
        "def is_palindrome(s):\n",
        "  \n",
        "  # to-do\n",
        "\n",
        "  return True"
      ],
      "metadata": {
        "id": "zdRV5oam62Yq"
      },
      "execution_count": null,
      "outputs": []
    },
    {
      "cell_type": "code",
      "source": [
        "is_palindrome(\"civic\")"
      ],
      "metadata": {
        "colab": {
          "base_uri": "https://localhost:8080/"
        },
        "id": "lN1WHeJOC4EW",
        "outputId": "fe77d1d8-68ce-40c4-e720-e9b6229c88a2"
      },
      "execution_count": null,
      "outputs": [
        {
          "output_type": "execute_result",
          "data": {
            "text/plain": [
              "True"
            ]
          },
          "metadata": {},
          "execution_count": 19
        }
      ]
    },
    {
      "cell_type": "code",
      "source": [
        "is_palindrome(\"city\")"
      ],
      "metadata": {
        "colab": {
          "base_uri": "https://localhost:8080/"
        },
        "id": "UFV6qHydDDx5",
        "outputId": "2a4c8b1f-07f8-4637-c55e-82ed347e1ef2"
      },
      "execution_count": null,
      "outputs": [
        {
          "output_type": "execute_result",
          "data": {
            "text/plain": [
              "False"
            ]
          },
          "metadata": {},
          "execution_count": 22
        }
      ]
    },
    {
      "cell_type": "code",
      "source": [
        "is_palindrome(\"Mr. Owl ate my metal worm\")"
      ],
      "metadata": {
        "colab": {
          "base_uri": "https://localhost:8080/"
        },
        "id": "eloEDh_8C6vV",
        "outputId": "f42c7efe-9d97-43be-b09f-b3751b76e5be"
      },
      "execution_count": null,
      "outputs": [
        {
          "output_type": "execute_result",
          "data": {
            "text/plain": [
              "True"
            ]
          },
          "metadata": {},
          "execution_count": 20
        }
      ]
    },
    {
      "cell_type": "code",
      "source": [
        "is_palindrome(\"Do geese see god?\")"
      ],
      "metadata": {
        "colab": {
          "base_uri": "https://localhost:8080/"
        },
        "id": "upuhSmlUC-Wp",
        "outputId": "d4fcbb4d-4892-4a93-9c3b-032b30951a2a"
      },
      "execution_count": null,
      "outputs": [
        {
          "output_type": "execute_result",
          "data": {
            "text/plain": [
              "True"
            ]
          },
          "metadata": {},
          "execution_count": 21
        }
      ]
    },
    {
      "cell_type": "code",
      "source": [
        "is_palindrome(\"기러기\")"
      ],
      "metadata": {
        "colab": {
          "base_uri": "https://localhost:8080/"
        },
        "id": "asO-0y7HDB-p",
        "outputId": "efe57997-cca2-459f-aca6-e8072366a44b"
      },
      "execution_count": null,
      "outputs": [
        {
          "output_type": "execute_result",
          "data": {
            "text/plain": [
              "True"
            ]
          },
          "metadata": {},
          "execution_count": 23
        }
      ]
    },
    {
      "cell_type": "code",
      "source": [
        ""
      ],
      "metadata": {
        "id": "2r6CMACaD1CQ"
      },
      "execution_count": null,
      "outputs": []
    }
  ]
}