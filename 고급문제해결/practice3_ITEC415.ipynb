{
 "cells": [
  {
   "cell_type": "markdown",
   "metadata": {
    "id": "wx2yJ--dDOiy"
   },
   "source": [
    "# Practice #3 (Dynamic programming - part 1)\n",
    "## 1. 집 도둑 문제\n",
    "거리에 있는 집들에는 일정 금액의 돈이 숨겨져 있습니다. 도둑은 거리를 따라 집을 털 계획으로, 도둑질을 막는 유일한 방법은 인접한 집끼리 보안 시스템이 연결되어 있고, 같은 밤에 인접한 두 집에 침입한 경우 자동으로 경찰에 연락이 간다는 것입니다.\n",
    "\n",
    "경찰에게 들키지 않고, 오늘 밤 도둑질 할 수 있는 최대 금액은 얼마인가요?\n",
    "\n",
    "* 예제 1 \n",
    "  - Input: nums = [1,2,3,1]\n",
    "  - Output: 4\n",
    "  - 설명: 도둑은 1번째 집의 돈(=1)과 3번째 집의 돈(=3)을 훔쳤음.\n",
    "\n",
    "* 예제 2\n",
    "  - Input: nums = [2,7,9,3,1]\n",
    "  - Output: 12\n",
    "  - 설명: 도둑은 1번째, 3번째, 5번째 집의 돈을 훔쳤음."
   ]
  },
  {
   "cell_type": "code",
   "execution_count": null,
   "metadata": {
    "id": "moqng3g4DNwk"
   },
   "outputs": [],
   "source": []
  },
  {
   "cell_type": "markdown",
   "metadata": {
    "id": "QwFAKr0fOFgT"
   },
   "source": [
    "## 2. 최소 비용으로 계단 오르기\n",
    "계단은 한 계단 또는 두 계단 씩 오를 수 있으며, index 0 또는 1에서 시작할 수 있습니다. 꼭대기 층에 도달했을 때의 최소 비용을 구하세요.\n",
    "\n",
    "cost[i]는 i번째 계단의 비용으로 정수 배욜입니다.\n",
    "\n",
    "* 예제 1\n",
    "  - Input: cost = [10,15,20]\n",
    "  - Output: 15\n",
    "* 예제 2\n",
    "  - Input: cost = [1,100,1,1,1,100,1,1,100,1]\n",
    "  - Output: 6\n",
    "  - 설명: index 0, 2, 4, 6, 7, 9 -> 최소 cost는 6"
   ]
  },
  {
   "cell_type": "code",
   "execution_count": null,
   "metadata": {
    "id": "xykeCtKQPXJn"
   },
   "outputs": [],
   "source": []
  },
  {
   "cell_type": "markdown",
   "metadata": {
    "id": "KO-3LyR-ucNi"
   },
   "source": [
    "## 3. 레벤슈타인 거리 구하기 (DP 이용)\n",
    "철자가 틀린 문자열이 주어졌을 때, 맞춤법 검사기는 사전에서 해당 문자열과 가장 가까운 단어를 반환합니다. \n",
    "\n",
    "문자열 2개가 입력으로 주어졌을 때, 1번째 문자열에서 2번째 문자열로 변환하는 데 필요한 최소 편집 횟수를 구하세요. (레벤슈타인 거리를 구하세요.)\n",
    "\n",
    "* 예제 1\n",
    "  - Input: \"Carthorse\", \"Orchestra\"\n",
    "  - Output: 레벤슈타인 거리는 8\n",
    "* 예제 2\n",
    "  - Input: \"Saturday\", \"Sunday\"\n",
    "  - Output: 레벤슈타인 거리는 3"
   ]
  },
  {
   "cell_type": "code",
   "execution_count": null,
   "metadata": {
    "id": "Ko2s1wltu7Z4"
   },
   "outputs": [],
   "source": []
  }
 ],
 "metadata": {
  "colab": {
   "name": "practice3-ITEC415.ipynb",
   "provenance": []
  },
  "kernelspec": {
   "display_name": "Python 3 (ipykernel)",
   "language": "python",
   "name": "python3"
  },
  "language_info": {
   "codemirror_mode": {
    "name": "ipython",
    "version": 3
   },
   "file_extension": ".py",
   "mimetype": "text/x-python",
   "name": "python",
   "nbconvert_exporter": "python",
   "pygments_lexer": "ipython3",
   "version": "3.9.12"
  }
 },
 "nbformat": 4,
 "nbformat_minor": 1
}
