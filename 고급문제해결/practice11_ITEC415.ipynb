{
 "cells": [
  {
   "cell_type": "markdown",
   "metadata": {
    "id": "wx2yJ--dDOiy"
   },
   "source": [
    "# Practice #11\n",
    "\n",
    "## 1. 최대 유량 구하기\n",
    "\n",
    "그래프의 최대 유량과 최소 컷 구간을 구하세요.\n",
    "\n",
    "* 예제\n",
    "  - Input\n",
    "  ```\n",
    "     graph = [[0, 16, 13, 0, 0, 0],\n",
    "\t        [0, 0, 10, 12, 0, 0],\n",
    "\t        [0, 4, 0, 0, 14, 0],\n",
    "\t        [0, 0, 9, 0, 0, 20],\n",
    "\t        [0, 0, 0, 7, 0, 4],\n",
    "\t        [0, 0, 0, 0, 0, 0]]\n",
    "  ```\n",
    "  - Output\n",
    "    - Max flow: 23\n",
    "    - Min cut: (1,3), (4,3), (4,5)\n"
   ]
  },
  {
   "cell_type": "code",
   "execution_count": null,
   "metadata": {
    "id": "NsWeLjux4X_O"
   },
   "outputs": [],
   "source": []
  },
  {
   "cell_type": "markdown",
   "metadata": {
    "id": "tXe5gSpA-iQ3"
   },
   "source": [
    "## 2. 최대 커플 수 구하기\n",
    "\n",
    "m명의 소년과 n명의 소녀가 있는 학급에서 파티를 개최하려 한다. 소년은 1명의 소녀에게만 초청을 할 수 있으며, 소녀는 1명의 초청에만 응할 수 있다. 최대 몇 커플이 어떠한 조합으로 나올 수 있을까?\n",
    "\n",
    "grid[i][j]가 1이면, i번째 소년이 j번째 소녀에게 초청장을 보낸 것이다.\n",
    "\n",
    "* 예제 1)\n",
    "  - Input: grid = [[1,1,1], [1,0,1], [0,2,1]]\n",
    "  - Output\n",
    "    - Max num of couples: 3\n",
    "    - All the pairs: [(1,1), (2, 3), (3, 2)], [(1,3),(2,1),(3,3)]\n",
    "\n",
    "* 예제 2)\n",
    "  - Input: grid = [[1,0,1,0], [1,0,0,0], [0,1,0,1], [1,1,0,1]]\n",
    "  - Output\n",
    "    - Max # of couples: 4\n",
    "    - All the pairs: [(1,3), (2,1), (3,2),(4,4)], [(1,3), (2,1),(3,4),(4,2)]\n",
    "\n",
    "\n",
    "\n"
   ]
  },
  {
   "cell_type": "code",
   "execution_count": null,
   "metadata": {
    "id": "X5rW1zgh4Zue"
   },
   "outputs": [],
   "source": []
  }
 ],
 "metadata": {
  "colab": {
   "collapsed_sections": [],
   "name": "practice11_ITEC415.ipynb",
   "provenance": []
  },
  "kernelspec": {
   "display_name": "Python 3 (ipykernel)",
   "language": "python",
   "name": "python3"
  },
  "language_info": {
   "codemirror_mode": {
    "name": "ipython",
    "version": 3
   },
   "file_extension": ".py",
   "mimetype": "text/x-python",
   "name": "python",
   "nbconvert_exporter": "python",
   "pygments_lexer": "ipython3",
   "version": "3.9.13"
  }
 },
 "nbformat": 4,
 "nbformat_minor": 1
}
