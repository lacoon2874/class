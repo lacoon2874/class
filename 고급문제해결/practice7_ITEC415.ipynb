{
 "cells": [
  {
   "cell_type": "markdown",
   "metadata": {
    "id": "wx2yJ--dDOiy"
   },
   "source": [
    "# Practice #7\n",
    "\n",
    "## 1. 그래프에서 출발점과 도착점 사이의 경로가 존재하는지 DFS를 이용하여 확인하기\n",
    "\n",
    "0에서 n-1까지 레이블이 지정된 n개의 노드 그래프에서, edge[i] = [u_i, v_i]인 비방향성 edge 목록이 주어졌을 때, 출발점과 도착점 사이의 경로가 존재하는지 DFS를 이용하여 판별하세요.\n",
    "\n",
    "* 예제 1\n",
    "  - Input: n = 3, edges = [[0,1],[1,2],[2,0]], source = 0, destination = 2\n",
    "  - Output: true\n",
    "\n",
    "* 예제 2\n",
    "  - Input: n = 6, edges = [[0,1],[0,2],[3,5],[5,4],[4,3]], source = 0, destination = 5\n",
    "  - Output: false\n",
    "\n",
    "\n",
    "\n",
    "\n",
    "\n"
   ]
  },
  {
   "cell_type": "code",
   "execution_count": null,
   "metadata": {
    "id": "Ez04dwhdrM7d"
   },
   "outputs": [],
   "source": []
  },
  {
   "cell_type": "markdown",
   "metadata": {
    "id": "tXe5gSpA-iQ3"
   },
   "source": [
    "## 2. 출발점에서 도착점까지의 경로 출력하기\n",
    "\n",
    "방향성 그래프의 인접 리스트가 주어졌을 때, 출발점에서 도착점까지의 경로를 찾으세요.\n",
    "\n",
    "* 예제 1\n",
    "  - Input: adj_list = [[1,2],[3],[3],[]]\n",
    "  - Output: [[0,1,3],[0,2,3]]\n",
    "\n",
    "* 예제 2\n",
    "  - Input: adj_list = [[4,3,1],[3,2,4],[3],[4],[]]\n",
    "  - Output: [[0,4],[0,3,4],[0,1,3,4],[0,1,2,3,4],[0,1,4]]\n",
    "\n",
    "\n"
   ]
  },
  {
   "cell_type": "code",
   "execution_count": null,
   "metadata": {
    "id": "PuBUiIhR_WRd"
   },
   "outputs": [],
   "source": []
  },
  {
   "cell_type": "markdown",
   "metadata": {
    "id": "hPfsOIVN8vmw"
   },
   "source": [
    "## 3. 모든 점을 연결하는 최소 비용 구하기\n",
    "\n",
    "2차원 좌표계에서, points[i] = [x_i, y_i]로 좌표로 표현되는 모든 점을 연결하는 최소 비용을 구하세요. 점 사이의 비용은 맨해튼 거리로 가정합니다.\n",
    "\n",
    "* 예제 1\n",
    "  - Input: points = [[0,0],[2,2],[3,10],[5,2],[7,0]]\n",
    "  - Output: 20\n",
    "\n",
    "* 예제 2\n",
    "  - Input: points = [[3,12],[-2,5],[-4,1]]\n",
    "  - Output: 18\n",
    "\n"
   ]
  },
  {
   "cell_type": "code",
   "execution_count": null,
   "metadata": {
    "id": "O-zQGWW5AA4O"
   },
   "outputs": [],
   "source": []
  }
 ],
 "metadata": {
  "colab": {
   "collapsed_sections": [],
   "name": "practice7_ITEC415.ipynb",
   "provenance": []
  },
  "kernelspec": {
   "display_name": "Python 3 (ipykernel)",
   "language": "python",
   "name": "python3"
  },
  "language_info": {
   "codemirror_mode": {
    "name": "ipython",
    "version": 3
   },
   "file_extension": ".py",
   "mimetype": "text/x-python",
   "name": "python",
   "nbconvert_exporter": "python",
   "pygments_lexer": "ipython3",
   "version": "3.9.13"
  }
 },
 "nbformat": 4,
 "nbformat_minor": 1
}
