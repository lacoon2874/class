{
 "cells": [
  {
   "cell_type": "markdown",
   "metadata": {
    "id": "wx2yJ--dDOiy"
   },
   "source": [
    "# Practice #6\n",
    "\n",
    "## 1. Union-Find 기본 구현을 이용하여 connected component의 수 구하기\n",
    "\n",
    "0에서 n-1까지 레이블이 지정된 n개의 노드 그래프에서, edge[i] = [a_i, b_i]인 비방향성 edge 목록이 주어졌을 때, 연결된 구성 요소의 수를 구하세요.\n",
    "\n",
    "* 예제 1\n",
    "  - Input: n = 5, edges = [[0,1],[1,2],[3,4]]\n",
    "  - Output: 2\n",
    "\n",
    "* 예제 2\n",
    "  - Input: n = 5, edges = [[0,1],[1,2],[2,3],[3,4]]\n",
    "  - Output: 1\n",
    "\n",
    "\n",
    "\n",
    "\n"
   ]
  },
  {
   "cell_type": "code",
   "execution_count": null,
   "metadata": {
    "id": "3wlvrV7KAufx"
   },
   "outputs": [],
   "source": []
  },
  {
   "cell_type": "markdown",
   "metadata": {
    "id": "tXe5gSpA-iQ3"
   },
   "source": [
    "## 2. Union-Find를 이용하여 트리 검증하기\n",
    "\n",
    "0에서 n-1까지 레이블이 지정된 n개의 노드 그래프에서, edge[i] = [a_i, b_i]인 비방향성 edge 목록이 주어졌을 때, 주어진 그래프가 트리인지 아닌지 판별하세요.\n",
    "\n",
    "* 예제 1\n",
    "  - Input: n = 5, edges = [[0,1],[0,2],[0,3],[1,4]]\n",
    "  - Output: true\n",
    "\n",
    "* 예제 2\n",
    "  - Input: n = 5, edges = [[0,1],[1,2],[2,3],[1,3],[1,4]]\n",
    "  - Output: false\n"
   ]
  },
  {
   "cell_type": "code",
   "execution_count": null,
   "metadata": {
    "id": "PuBUiIhR_WRd"
   },
   "outputs": [],
   "source": []
  }
 ],
 "metadata": {
  "colab": {
   "collapsed_sections": [],
   "name": "practice6_ITEC415.ipynb",
   "provenance": []
  },
  "kernelspec": {
   "display_name": "Python 3 (ipykernel)",
   "language": "python",
   "name": "python3"
  },
  "language_info": {
   "codemirror_mode": {
    "name": "ipython",
    "version": 3
   },
   "file_extension": ".py",
   "mimetype": "text/x-python",
   "name": "python",
   "nbconvert_exporter": "python",
   "pygments_lexer": "ipython3",
   "version": "3.9.12"
  }
 },
 "nbformat": 4,
 "nbformat_minor": 1
}
