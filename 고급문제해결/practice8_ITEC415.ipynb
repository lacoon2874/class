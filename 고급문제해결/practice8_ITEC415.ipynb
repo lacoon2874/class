{
  "nbformat": 4,
  "nbformat_minor": 0,
  "metadata": {
    "colab": {
      "name": "practice8_ITEC415.ipynb",
      "provenance": [],
      "collapsed_sections": []
    },
    "kernelspec": {
      "name": "python3",
      "display_name": "Python 3"
    },
    "language_info": {
      "name": "python"
    }
  },
  "cells": [
    {
      "cell_type": "markdown",
      "source": [
        "# Practice #8\n",
        "\n",
        "## 1. Dijkstra 알고리즘을 이용한 네트워크 지연 시간 구하기 \n",
        "\n",
        "출발점 u_i, 도착점 v_i 일 때, 두 노드 간 전송 시간은 w_i이며, 이를 directed edge의 times[i] = (u_i, v_i, w_i)로 나타낸다. 시그널 발신 노드가 k 일 때, 모든 노드들 n이 시그널을 받는 데 걸리는 시간을 구하세요.\n",
        "\n",
        "* 예제 1\n",
        "  - Input: times = [[2,1,1],[2,3,1],[3,4,1]], n = 4, k = 2\n",
        "  - Output: 2\n",
        "\n",
        "* 예제 2\n",
        "  - Input: times = [[1,2,1]], n = 2, k = 1\n",
        "  - Output: 1\n",
        "\n",
        "* 예제 3\n",
        "  - Input: times = [[1,2,1]], n = 2, k = 2\n",
        "  - Output: -1\n",
        "\n",
        "\n",
        "\n",
        "\n",
        "\n"
      ],
      "metadata": {
        "id": "wx2yJ--dDOiy"
      }
    },
    {
      "cell_type": "code",
      "source": [
        ""
      ],
      "metadata": {
        "id": "NsWeLjux4X_O"
      },
      "execution_count": null,
      "outputs": []
    },
    {
      "cell_type": "markdown",
      "source": [
        "## 2. Bellman ford 알고리즘을 이용하여 k번 경유하는 비행기 표 가격 구하기\n",
        "\n",
        "flights[i]이 (출발, 도착, 가격)을 나타낼 때, src(출발지), dst(도착지), k(최대 경유 횟수)에 대해, 비행기 표 가격을 구하세요.\n",
        "\n",
        "* 예제 1\n",
        "  - Input: n = 4, flights = [[0,1,100],[1,2,100],[2,0,100],[1,3,600],[2,3,200]], src = 0, dst = 3, k = 1\n",
        "  - Output: 700\n",
        "\n",
        "\n",
        "* 예제 2\n",
        "  - Input: n = 3, flights = [[0,1,100],[1,2,100],[0,2,500]], src = 0, dst = 2, k = 1\n",
        "  - Output: 200\n",
        "\n",
        "* 예제 3\n",
        "  - Input: n = 3, flights = [[0,1,100],[1,2,100],[0,2,500]], src = 0, dst = 2, k = 0\n",
        "Output: 500\n",
        "\n",
        "\n",
        "\n"
      ],
      "metadata": {
        "id": "tXe5gSpA-iQ3"
      }
    },
    {
      "cell_type": "code",
      "source": [
        ""
      ],
      "metadata": {
        "id": "X5rW1zgh4Zue"
      },
      "execution_count": null,
      "outputs": []
    },
    {
      "cell_type": "markdown",
      "source": [
        "## 3. Topological sorting을 이용하여 수강신청 순서 정하기\n",
        "\n",
        "레이블 0에서 (numCourses-1)까지 할당된 과목들이 numCourses 수에 대하여, 선수과목 관계를 prerequisites[i] = [a_i, b_i]로 나타낼 때, 모든 과목을 수강할 수 있는 수강신청 순서를 정하세요.\n",
        "\n",
        "* 예제 1\n",
        "  - Input: numCourses = 2, prerequisites = [[1,0]]\n",
        "  - Output: [0,1]\n",
        "\n",
        "* 예제 2\n",
        "  - Input: numCourses = 4, prerequisites = [[1,0],[2,0],[3,1],[3,2]]\n",
        "  - Output: [0,2,1,3]\n",
        "\n",
        "\n"
      ],
      "metadata": {
        "id": "hPfsOIVN8vmw"
      }
    },
    {
      "cell_type": "code",
      "source": [
        ""
      ],
      "metadata": {
        "id": "YcsASr7Aym9O"
      },
      "execution_count": null,
      "outputs": []
    }
  ]
}