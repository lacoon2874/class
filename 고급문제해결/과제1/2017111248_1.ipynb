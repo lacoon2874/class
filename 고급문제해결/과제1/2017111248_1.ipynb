{
 "cells": [
  {
   "cell_type": "markdown",
   "id": "db38a0b9",
   "metadata": {},
   "source": [
    "# 2017111248 황성재"
   ]
  },
  {
   "cell_type": "markdown",
   "id": "a82b277d",
   "metadata": {},
   "source": [
    "## 1. 숫자 뒤집기"
   ]
  },
  {
   "cell_type": "code",
   "execution_count": 1,
   "id": "15c5d2b9",
   "metadata": {},
   "outputs": [],
   "source": [
    "def reverse(x):\n",
    "    result = 0\n",
    "    \n",
    "    result = int(str(abs(x))[::-1]) # 입력값의 절대값만 뒤집어서 저장\n",
    "    \n",
    "    if x < 0:\n",
    "        return -result # 입력값이 음수였을 경우 다시 음수로 만들어주기\n",
    "    else:\n",
    "        return result # 입력값이 양수였을 경우 그대로"
   ]
  },
  {
   "cell_type": "markdown",
   "id": "ed16fc52",
   "metadata": {},
   "source": [
    "## 2. 숫자 회문 판별기"
   ]
  },
  {
   "cell_type": "code",
   "execution_count": 2,
   "id": "96232b22",
   "metadata": {},
   "outputs": [],
   "source": [
    "import math\n",
    "\n",
    "def is_palindrome_number(x):\n",
    "    if x > 0 and int(str(abs(x))[::-1]) == x: # 입력값이 양수이면서 회문일 경우 true\n",
    "        return True\n",
    "    else: # 입력값이 음수이거나 회문이 아닐 경우 false\n",
    "        return False"
   ]
  },
  {
   "cell_type": "markdown",
   "id": "85277800",
   "metadata": {},
   "source": [
    "## 3. 문자열 회문 판별기"
   ]
  },
  {
   "cell_type": "code",
   "execution_count": 3,
   "id": "c319dde8",
   "metadata": {},
   "outputs": [],
   "source": [
    "def is_palindrome(s):\n",
    "    forward = \"\" # 문자열 정방향 저장 변수 초기화\n",
    "    \n",
    "    for char in s: # 문자열에서 띄어쓰기와 문장 부호 제거\n",
    "        if char.isalpha():\n",
    "            forward += char.lower()\n",
    "        else: # 문자가 아닐 경우 건너뜀\n",
    "            continue\n",
    "    \n",
    "    if forward == forward[::-1]: # 문자열이 회문일 경우 true\n",
    "        return True\n",
    "    else: # 문자열이 회문이 아닐 경우 false\n",
    "        return False"
   ]
  },
  {
   "cell_type": "code",
   "execution_count": null,
   "id": "53e884a4",
   "metadata": {},
   "outputs": [],
   "source": []
  }
 ],
 "metadata": {
  "kernelspec": {
   "display_name": "Python 3 (ipykernel)",
   "language": "python",
   "name": "python3"
  },
  "language_info": {
   "codemirror_mode": {
    "name": "ipython",
    "version": 3
   },
   "file_extension": ".py",
   "mimetype": "text/x-python",
   "name": "python",
   "nbconvert_exporter": "python",
   "pygments_lexer": "ipython3",
   "version": "3.9.10"
  }
 },
 "nbformat": 4,
 "nbformat_minor": 5
}
