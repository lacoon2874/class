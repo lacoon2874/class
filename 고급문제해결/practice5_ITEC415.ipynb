{
 "cells": [
  {
   "cell_type": "markdown",
   "metadata": {
    "id": "wx2yJ--dDOiy"
   },
   "source": [
    "# Practice #5 \n",
    "\n",
    "* 아래 샘플에서 null은 None 으로 선언되어도 됩니다.\n",
    "\n",
    "## 1. Binary tree preorder/inorder/postorder traversal\n",
    "\n",
    "다음의 sample code를 참고하여, 입력을 BFS 방식으로 이해하고, binary tree를 만듭니다.\n",
    "\n",
    "iterative 방식으로 preorder/inorder/postorder를 출력하세요.\n",
    "\n"
   ]
  },
  {
   "cell_type": "code",
   "execution_count": 25,
   "metadata": {
    "id": "yNHzbDflmMRF"
   },
   "outputs": [],
   "source": [
    "# Recursive sample\n",
    "\n",
    "class TreeNode:\n",
    "  def __init__(self, value):\n",
    "    self.left = None\n",
    "    self.right = None\n",
    "    self.value = value\n",
    "\n",
    "def build_binary_tree(items):\n",
    "    if not items:\n",
    "        return None\n",
    "\n",
    "    it = iter(items)\n",
    "    root = TreeNode(next(it))\n",
    "    q = [root]\n",
    "    for node in q:\n",
    "        val = next(it, None)\n",
    "        if val is not None:\n",
    "            node.left = TreeNode(val)\n",
    "            q.append(node.left)\n",
    "        val = next(it, None)\n",
    "        if val is not None:\n",
    "            node.right = TreeNode(val)\n",
    "            q.append(node.right)\n",
    "    return root\n",
    "\n",
    "def print_recursive(tree, level=0, prefix=\"root\"):\n",
    "    print(f\"{level * '  '}{prefix:5s}: value={tree.value}\")\n",
    "    if tree.left:\n",
    "        print_recursive(tree.left, level + 1, \"left\")\n",
    "    if tree.right:\n",
    "        print_recursive(tree.right, level + 1, \"right\")"
   ]
  },
  {
   "cell_type": "code",
   "execution_count": 23,
   "metadata": {
    "colab": {
     "base_uri": "https://localhost:8080/"
    },
    "id": "n7vKpGj3tFEl",
    "outputId": "73514e52-69d5-496c-e5ae-13264f2696a4"
   },
   "outputs": [
    {
     "name": "stdout",
     "output_type": "stream",
     "text": [
      "root : value=1\n",
      "  left : value=2\n",
      "    left : value=4\n",
      "    right: value=5\n",
      "  right: value=3\n",
      "    left : value=6\n",
      "    right: value=7\n"
     ]
    }
   ],
   "source": [
    "root = [1, 2, 3, 4, 5, 6, 7]\n",
    "\n",
    "print_recursive(build_binary_tree(root))"
   ]
  },
  {
   "cell_type": "markdown",
   "metadata": {
    "id": "0f4qGCocv7E3"
   },
   "source": [
    "### Iterative 방식으로 traverse 출력하기."
   ]
  },
  {
   "cell_type": "code",
   "execution_count": 29,
   "metadata": {
    "id": "EGsNBfmIySlt"
   },
   "outputs": [],
   "source": [
    "# print_preorder\n",
    "# print_inorder\n",
    "# print_postorder"
   ]
  },
  {
   "cell_type": "markdown",
   "metadata": {
    "id": "IU35D0Sfuf0f"
   },
   "source": [
    "1. Preorder\n",
    "  - Input: root = [1,null,2,3]\n",
    "  - Output: [1,2,3]\n"
   ]
  },
  {
   "cell_type": "code",
   "execution_count": null,
   "metadata": {
    "id": "xKJkR4hmty7l"
   },
   "outputs": [],
   "source": []
  },
  {
   "cell_type": "markdown",
   "metadata": {
    "id": "OVWZVn8QupWe"
   },
   "source": [
    "\n",
    "2. Inorder\n",
    "  - Input: root = [1,null,2,3]\n",
    "  - Output: [1,3,2]"
   ]
  },
  {
   "cell_type": "code",
   "execution_count": null,
   "metadata": {
    "id": "HXd0ja-Vur3l"
   },
   "outputs": [],
   "source": []
  },
  {
   "cell_type": "markdown",
   "metadata": {
    "id": "yI_alDDdusu-"
   },
   "source": [
    "3. Postorder\n",
    "  - Input: root = [1,null,2,3]\n",
    "  - Output: [3,2,1]"
   ]
  },
  {
   "cell_type": "code",
   "execution_count": null,
   "metadata": {
    "id": "96cgHL3YutPF"
   },
   "outputs": [],
   "source": []
  },
  {
   "cell_type": "markdown",
   "metadata": {
    "id": "E4H_VPH-ut4G"
   },
   "source": [
    "## 2. Inorder와 postorder 탐색으로 binary tree 만들기\n",
    "\n",
    "* 예제\n",
    "  - Input: inorder = [9,3,15,20,7], postorder = [9,15,7,20,3]\n",
    "  - Output: [3,9,20,null,null,15,7]\n"
   ]
  },
  {
   "cell_type": "code",
   "execution_count": null,
   "metadata": {
    "id": "G6MsoYD6blwV"
   },
   "outputs": [],
   "source": []
  },
  {
   "cell_type": "markdown",
   "metadata": {
    "id": "54iMXJmObmfm"
   },
   "source": [
    "## 3. Path Sum\n",
    "루트 노드에서 리프 노드 사이의 값을 구하여, targetSum 값이 맞는지 true/false로 판단하세요.\n",
    "\n",
    "* 예제 1\n",
    "  - Input: root = [5,4,8,11,null,13,4,7,2,null,null,null,1], targetSum = 22\n",
    "  - Output: true\n",
    "\n",
    "* 예제 2\n",
    "  - Input: root = [1,2,3], targetSum = 5\n",
    "  - Output: false\n",
    "\n"
   ]
  },
  {
   "cell_type": "code",
   "execution_count": null,
   "metadata": {
    "id": "TpMzOT3KdGkV"
   },
   "outputs": [],
   "source": []
  },
  {
   "cell_type": "markdown",
   "metadata": {
    "id": "_NSWUYlD5IIV"
   },
   "source": [
    "## 4. 이진검색트리 유효성 검사하기\n",
    "binary tree가 주어졌을 때, 이 트리가 유효한 이진검색트리 인지 검사하세요.\n",
    "\n",
    "* 예제 1\n",
    "  - Input: root = [2,1,3]\n",
    "  - Output: true\n",
    "\n",
    "* 예제 2\n",
    "  - Input: root = [5,1,4,null,null,3,6]\n",
    "  - Output: false\n",
    "\n"
   ]
  },
  {
   "cell_type": "code",
   "execution_count": null,
   "metadata": {
    "id": "ah1sftxj5WRb"
   },
   "outputs": [],
   "source": []
  },
  {
   "cell_type": "markdown",
   "metadata": {
    "id": "dVtFo7Y6Onlc"
   },
   "source": [
    "## 5. 이진검색트리의 노드 삭제하기\n",
    "\n",
    "삭제하고자 하는 노드를 찾은 후, 해당 노드를 삭제한다.\n",
    "\n",
    "* 예제\n",
    "  - Input: root = [5,3,6,2,4,null,7], key = 3\n",
    "  - Output: [5,4,6,2,null,null,7] or [5,2,6,null,4,null,7]"
   ]
  },
  {
   "cell_type": "code",
   "execution_count": null,
   "metadata": {
    "id": "4QNJjOFgO8u4"
   },
   "outputs": [],
   "source": []
  }
 ],
 "metadata": {
  "colab": {
   "collapsed_sections": [],
   "name": "practice5-ITEC415.ipynb",
   "provenance": []
  },
  "kernelspec": {
   "display_name": "Python 3 (ipykernel)",
   "language": "python",
   "name": "python3"
  },
  "language_info": {
   "codemirror_mode": {
    "name": "ipython",
    "version": 3
   },
   "file_extension": ".py",
   "mimetype": "text/x-python",
   "name": "python",
   "nbconvert_exporter": "python",
   "pygments_lexer": "ipython3",
   "version": "3.9.12"
  }
 },
 "nbformat": 4,
 "nbformat_minor": 1
}
