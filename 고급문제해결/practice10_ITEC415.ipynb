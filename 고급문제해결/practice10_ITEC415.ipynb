{
  "nbformat": 4,
  "nbformat_minor": 0,
  "metadata": {
    "colab": {
      "name": "practice10_ITEC415.ipynb",
      "provenance": [],
      "collapsed_sections": []
    },
    "kernelspec": {
      "name": "python3",
      "display_name": "Python 3"
    },
    "language_info": {
      "name": "python"
    }
  },
  "cells": [
    {
      "cell_type": "markdown",
      "source": [
        "# Practice #10\n",
        "\n",
        "## 1. HashSet 설계하기\n",
        "\n",
        "해시 테이블 라이브러리를 이용하지 않고, HashSet을 구현해 보세요.\n",
        "\n",
        "다음 함수를 지원하는 MyHashSet 클래스를 구현합니다. \n",
        "- void add(key) \n",
        "- bool contains(key)\n",
        "- void remove(key)\n",
        "\n",
        "결과 확인 다음 입력값과 출력값으로 합니다.\n",
        "  - Input\n",
        "\n",
        "[\"MyHashSet\", \"add\", \"add\", \"contains\", \"contains\", \"add\", \"contains\", \"remove\", \"contains\"]\n",
        "\n",
        "[[], [1], [2], [1], [3], [2], [2], [2], [2]]\n",
        "\n",
        "  - Output\n",
        "\n",
        "[null, null, null, true, false, null, true, null, false]\n",
        "\n",
        "  - Explanation\n",
        "```  \n",
        "MyHashSet myHashSet = new MyHashSet();\n",
        "myHashSet.add(1);      // set = [1]\n",
        "myHashSet.add(2);      // set = [1, 2]\n",
        "myHashSet.contains(1); // return True\n",
        "myHashSet.contains(3); // return False, (not found)\n",
        "myHashSet.add(2);      // set = [1, 2]\n",
        "myHashSet.contains(2); // return True\n",
        "myHashSet.remove(2);   // set = [1]\n",
        "myHashSet.contains(2); // return False, (already removed)\n",
        "```\n",
        "\n",
        "\n",
        "\n",
        "\n",
        "\n"
      ],
      "metadata": {
        "id": "wx2yJ--dDOiy"
      }
    },
    {
      "cell_type": "code",
      "source": [
        ""
      ],
      "metadata": {
        "id": "NsWeLjux4X_O"
      },
      "execution_count": null,
      "outputs": []
    },
    {
      "cell_type": "markdown",
      "source": [
        "## 2. HashMap 설계하기\n",
        "\n",
        "해시 테이블 라이브러리를 이용하지 않고, HashMap을 구현해 보세요.\n",
        "\n",
        "다음 함수를 지원하는 MyHashMap 클래스를 구현합니다. \n",
        "- void put(int key, int value)\n",
        "- int get(int key)\n",
        "- void remove(key)\n",
        "\n",
        "결과 확인 다음 입력값과 출력값으로 합니다.\n",
        "  - Input\n",
        "\n",
        "[\"MyHashMap\", \"put\", \"put\", \"get\", \"get\", \"put\", \"get\", \"remove\", \"get\"]\n",
        "\n",
        "[[], [1, 1], [2, 2], [1], [3], [2, 1], [2], [2], [2]]\n",
        "\n",
        "\n",
        "  - Output\n",
        "\n",
        "[null, null, null, true, false, null, true, null, false]\n",
        "\n",
        "  - Explanation\n",
        "```\n",
        "MyHashMap myHashMap = new MyHashMap();\n",
        "myHashMap.put(1, 1); // The map is now [[1,1]]\n",
        "myHashMap.put(2, 2); // The map is now [[1,1], [2,2]]\n",
        "myHashMap.get(1);    // return 1, The map is now [[1,1], [2,2]]\n",
        "myHashMap.get(3);    // return -1 (i.e., not found), The map is now [[1,1], [2,2]]\n",
        "myHashMap.put(2, 1); // The map is now [[1,1], [2,1]] (i.e., update the existing value)\n",
        "myHashMap.get(2);    // return 1, The map is now [[1,1], [2,1]]\n",
        "myHashMap.remove(2); // remove the mapping for 2, The map is now [[1,1]]\n",
        "myHashMap.get(2);    // return -1 (i.e., not found), The map is now [[1,1]]\n",
        "```\n",
        "\n",
        "\n"
      ],
      "metadata": {
        "id": "tXe5gSpA-iQ3"
      }
    },
    {
      "cell_type": "code",
      "source": [
        ""
      ],
      "metadata": {
        "id": "X5rW1zgh4Zue"
      },
      "execution_count": null,
      "outputs": []
    },
    {
      "cell_type": "markdown",
      "source": [
        "## 3. Happy Number 구하기\n",
        "\n",
        "Happy number는 각 숫자의 제곱의 합으로 대체 될 때 결국 1에 도달하는 숫자입니다. 입력값이 주어졌을 때, happy number인지 판별하세요.\n",
        "\n",
        "* 예제 1\n",
        "  - Input: n = 7\n",
        "  - Output: true\n",
        "\n",
        "* 예제 2\n",
        "  - Input: n = 19\n",
        "  - Output: true\n",
        "\n",
        "* 예제 3\n",
        "  - Input: n = 116\n",
        "  - Output: false\n"
      ],
      "metadata": {
        "id": "hPfsOIVN8vmw"
      }
    },
    {
      "cell_type": "code",
      "source": [
        ""
      ],
      "metadata": {
        "id": "YcsASr7Aym9O"
      },
      "execution_count": null,
      "outputs": []
    }
  ]
}